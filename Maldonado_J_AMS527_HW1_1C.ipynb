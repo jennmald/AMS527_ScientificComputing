{
 "cells": [
  {
   "cell_type": "markdown",
   "metadata": {},
   "source": [
    "# Using double and single precision to approximate the derivative\n",
    "\n",
    "## Jennefer Maldonado\n",
    "\n",
    "This notebook solves HW 1 Problem 1 (c) using the centered difference formula $f'(x) = \\frac{f(x+h)-f(x-h)}{2h}$.\n",
    "\n",
    "In order to have the problem solved in both double and single precision, I used numpy float64 and float32. Each derivative function has an extra parameter to specify which function to compute e.g. $tan(x)$ or $tan^2(x)+1$. To run this code use main function or plots and analysis are shown below."
   ]
  },
  {
   "cell_type": "code",
   "execution_count": 1,
   "metadata": {},
   "outputs": [
    {
     "data": {
      "image/png": "[encoded data removed]",
      "text/plain": [
       "<Figure size 432x288 with 1 Axes>"
      ]
     },
     "metadata": {
      "needs_background": "light"
     },
     "output_type": "display_data"
    },
    {
     "data": {
      "image/png": "[encoded data removed]",
      "text/plain": [
       "<Figure size 432x288 with 1 Axes>"
      ]
     },
     "metadata": {
      "needs_background": "light"
     },
     "output_type": "display_data"
    }
   ],
   "source": [
    "\"\"\"\n",
    "Author : Jennefer Maldonado\n",
    "Date   : 2/9/2021\n",
    "Purpose: Compute derivative of a function\n",
    "         using centered difference formula\n",
    "\"\"\"\n",
    "\n",
    "import matplotlib.pyplot as plt\n",
    "import numpy as np\n",
    "import math\n",
    "\n",
    "####################################\n",
    "#         Double Precision         #\n",
    "####################################\n",
    "\n",
    "# function for tan(x)\n",
    "def f64(x):\n",
    "    return np.float64(math.tan(x))\n",
    "\n",
    "\n",
    "# function for tan(x)^2 + 1\n",
    "def g64(x):\n",
    "    return np.float64(np.power(math.tan(x),2)) + np.float64(1.0)\n",
    "\n",
    "\n",
    "# computes the derivative of a given function\n",
    "# params:\n",
    "# f - represents the function user passes to be used\n",
    "# x,h - values to be passed to function\n",
    "def derivative64(f,x,h):\n",
    "    fxh_plus = f(np.float64(x+h))\n",
    "    fxh_sub = f(np.float64(x-h))\n",
    "    fprime = np.float64(fxh_plus - fxh_sub)/np.float64(h*2)\n",
    "    return fprime\n",
    "\n",
    "\n",
    "\n",
    "\n",
    "####################################\n",
    "#         Single Precision         #\n",
    "####################################\n",
    "\n",
    "# function for tan(x)\n",
    "def f32(x):\n",
    "    return np.float32(math.tan(x))\n",
    "\n",
    "\n",
    "# function for tan(x)^2 + 1\n",
    "def g32(x):\n",
    "    return np.float32(np.power(math.tan(x),2)) + np.float32(1.0)\n",
    "\n",
    "\n",
    "# computes the derivative of a given function\n",
    "# params:\n",
    "# f - represents the function user passes to be used\n",
    "# x,h - values to be passed to function\n",
    "def derivative32(f,x,h):\n",
    "    fxh_plus = f(np.float32(x+h))\n",
    "    fxh_sub = f(np.float32(x-h))\n",
    "    fprime = np.float32(fxh_plus - fxh_sub)/np.float32(h*2)\n",
    "    return fprime\n",
    "\n",
    "\n",
    "\n",
    "\n",
    "def main():\n",
    "    ## DOUBLE PRECISION ##\n",
    "    # value of x\n",
    "    x64 = np.float64(1.0)\n",
    "    # list to store values of h for plotting\n",
    "    hlist64 = []\n",
    "    # list to store errors for plotting\n",
    "    errors64 = []\n",
    "    for k in range(0,16):\n",
    "        # get value of h\n",
    "        h = math.pow(10,k*-1)\n",
    "        hlist64.append(h)\n",
    "        # compute derivative\n",
    "        tang = derivative64(f64,x64,h)\n",
    "        # compute tan(x)^2+1\n",
    "        tang_srd = derivative64(g64,x64,h)\n",
    "        #error = approx value - true value\n",
    "        errors64.append(abs(tang-tang_srd))\n",
    "    \n",
    "    # Plot the results for double precision\n",
    "    plt.plot(hlist64, errors64)\n",
    "    plt.xscale('log')\n",
    "    plt.title(\"Error in Derivative Double Precision\")\n",
    "    plt.ylabel(\"Error\")\n",
    "    plt.xlabel(\"h\")\n",
    "    plt.show()\n",
    "    \n",
    "    \n",
    "    ## SINGLE PRECISION ##\n",
    "    # value of x\n",
    "    x32 = np.float32(1.0)\n",
    "    # list to store values of h for plotting\n",
    "    hlist32 = []\n",
    "    # list to store errors for plotting\n",
    "    errors32 = []\n",
    "    for k in range(0,16):\n",
    "        # get value of h\n",
    "        h = math.pow(10,k*-1)\n",
    "        hlist32.append(h)\n",
    "        # compute derivative\n",
    "        tang = derivative32(f32,x32,h)\n",
    "        # compute tan(x)^2+1\n",
    "        tang_srd = derivative32(g32,x32,h)\n",
    "        #error = approx value - true value\n",
    "        errors32.append(abs(tang-tang_srd))\n",
    "    \n",
    "    # Plot the results for single precision\n",
    "    plt.plot(hlist32, errors32)\n",
    "    plt.xscale('log')\n",
    "    plt.title(\"Error in Derivative Single Precision\")\n",
    "    plt.ylabel(\"Error\")\n",
    "    plt.xlabel(\"h\")\n",
    "    plt.show()\n",
    "      \n",
    "\n",
    "if __name__ == '__main__':\n",
    "    main()"
   ]
  },
  {
   "cell_type": "markdown",
   "metadata": {},
   "source": [
    "## Analysis and Explanation\n",
    "Similarly to 1(a) and (b), the two plots show the error plotted as a function h. Using the centered difference formula produces much higher error on average than the finite difference formula. This could be due to the extra arithmetic needed hence causing more error in the derivatives."
   ]
  },
  {
   "cell_type": "code",
   "execution_count": null,
   "metadata": {},
   "outputs": [],
   "source": []
  }
 ],
 "metadata": {
  "kernelspec": {
   "display_name": "Python 3",
   "language": "python",
   "name": "python3"
  },
  "language_info": {
   "codemirror_mode": {
    "name": "ipython",
    "version": 3
   },
   "file_extension": ".py",
   "mimetype": "text/x-python",
   "name": "python",
   "nbconvert_exporter": "python",
   "pygments_lexer": "ipython3",
   "version": "3.8.5"
  }
 },
 "nbformat": 4,
 "nbformat_minor": 4
}
