{
 "cells": [
  {
   "cell_type": "markdown",
   "id": "adopted-satellite",
   "metadata": {},
   "source": [
    "# Homework 5 Problem 5\n",
    "\n",
    "### Jennefer Maldonado\n",
    "\n",
    "#### 10.2\n",
    "Solve the two-point BVP $u''=-(1+e^{u}), 0<t<1$ with boundary conditions $u(0)=0, u(1)=1$ using the shooting method, finite difference method, and collocation method."
   ]
  },
  {
   "cell_type": "code",
   "execution_count": 16,
   "id": "sophisticated-chance",
   "metadata": {},
   "outputs": [],
   "source": [
    "import numpy as np\n",
    "import scipy\n",
    "import matplotlib.pyplot as plt\n",
    "from scipy.integrate import solve_ivp\n",
    "import pycollocation as pyc"
   ]
  },
  {
   "cell_type": "code",
   "execution_count": 39,
   "id": "naughty-tract",
   "metadata": {},
   "outputs": [],
   "source": [
    "def f(y):\n",
    "    return -(1+ np.exp(y))\n",
    "\n",
    "# Shooting Method\n",
    "def shooting(a,b,n):\n",
    "    # solve each initial value problem with ODE solver\n",
    "    # https://docs.scipy.org/doc/scipy/reference/optimize.nonlin.html\n",
    "    return a\n",
    "    \n",
    "# Finite Difference Method\n",
    "def finite_diff(a,b,n,tmax):\n",
    "    h = (b-a)/(n+1)\n",
    "    y = [0, 1, 1]\n",
    "    t = 0\n",
    "    while t < tmax:\n",
    "        A = []\n",
    "        for i in range(1,n-2):\n",
    "            t = a + i*h\n",
    "            # second derivative\n",
    "            A.append((1/h**2) * (y[i+1]-2*y[i]+y[i-1]))\n",
    "            A.insert(0, 0)\n",
    "            A.append(1)\n",
    "            f_t = f(y)\n",
    "            y_new = scipy.optimize.fsolve(A,f_t)\n",
    "            y = y_new\n",
    "    return y\n",
    "        \n",
    "# Collocation Method\n",
    "def collocation(a,b,n):\n",
    "    problem = pyc.problems.TwoPointBVP()\n",
    "    return a"
   ]
  },
  {
   "cell_type": "code",
   "execution_count": null,
   "id": "valued-exhaust",
   "metadata": {},
   "outputs": [],
   "source": []
  }
 ],
 "metadata": {
  "kernelspec": {
   "display_name": "Python 3",
   "language": "python",
   "name": "python3"
  },
  "language_info": {
   "codemirror_mode": {
    "name": "ipython",
    "version": 3
   },
   "file_extension": ".py",
   "mimetype": "text/x-python",
   "name": "python",
   "nbconvert_exporter": "python",
   "pygments_lexer": "ipython3",
   "version": "3.9.1"
  }
 },
 "nbformat": 4,
 "nbformat_minor": 5
}
