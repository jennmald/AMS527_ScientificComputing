{
 "cells": [
  {
   "cell_type": "markdown",
   "id": "negative-assignment",
   "metadata": {},
   "source": [
    "# Double Integrals\n",
    "\n",
    "### Jennefer Maldonado\n",
    "\n",
    "This jupyter notebook will compute the double integral ${\\displaystyle \\int \\int e^{-xy}\\,dxdy}$ over two regions."
   ]
  },
  {
   "cell_type": "code",
   "execution_count": 5,
   "id": "casual-difficulty",
   "metadata": {},
   "outputs": [
    {
     "name": "stdout",
     "output_type": "stream",
     "text": [
      "0.7965976346603698\n",
      "0.7965917409983221\n"
     ]
    }
   ],
   "source": [
    "import math\n",
    "import numpy as np\n",
    "\n",
    "# define the function\n",
    "def f(x,y):\n",
    "    return math.e**(-x*y)\n",
    "\n",
    "# define the double midpoint rule\n",
    "# takes in parameters hthat represent the\n",
    "# outer integration interval and number of steps\n",
    "# similarly for the inner\n",
    "def double_midpoint(a,b,c,d,outer,inner):\n",
    "    # compute the value of each delta\n",
    "    delta1 = (b-a)/outer\n",
    "    delta2 = (d-c)/inner\n",
    "    summ = 0\n",
    "    # compute the midpoint for each integral \n",
    "    for i in range(0,outer):\n",
    "        for k in range(0, inner):\n",
    "            x = a + delta1/2 + i*delta1\n",
    "            y = c + delta2/2 + k*delta2\n",
    "            summ += delta1*delta2*f(x,y)\n",
    "    return summ\n",
    "\n",
    "# for 0<=x<=1 and 0<=y<=1\n",
    "# using 100 steps\n",
    "print(double_midpoint(0,1,0,1,100,100))\n",
    "\n",
    "# for x^2+y^2<=1, x>=0, y>=0\n",
    "# using 100 steps\n",
    "print(double_midpoint(0,1,0,1,50,50))"
   ]
  },
  {
   "cell_type": "code",
   "execution_count": null,
   "id": "auburn-modern",
   "metadata": {},
   "outputs": [],
   "source": []
  }
 ],
 "metadata": {
  "kernelspec": {
   "display_name": "Python 3",
   "language": "python",
   "name": "python3"
  },
  "language_info": {
   "codemirror_mode": {
    "name": "ipython",
    "version": 3
   },
   "file_extension": ".py",
   "mimetype": "text/x-python",
   "name": "python",
   "nbconvert_exporter": "python",
   "pygments_lexer": "ipython3",
   "version": "3.9.1"
  }
 },
 "nbformat": 4,
 "nbformat_minor": 5
}
